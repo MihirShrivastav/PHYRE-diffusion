{
 "cells": [
  {
   "cell_type": "code",
   "execution_count": 35,
   "id": "cab6726f",
   "metadata": {},
   "outputs": [],
   "source": [
    "import numpy as np\n",
    "import phyre\n",
    "import os\n",
    "import pathlib\n",
    "import cv2\n",
    "import matplotlib.pyplot as plt\n",
    "import random\n",
    "import math\n",
    "from sys import exit\n",
    "import h5py\n",
    "import pygame\n",
    "from pygame.locals import *\n",
    "import pickle"
   ]
  },
  {
   "cell_type": "code",
   "execution_count": 36,
   "id": "f269c8d1",
   "metadata": {},
   "outputs": [],
   "source": [
    "#print('All eval setups:', *phyre.MAIN_EVAL_SETUPS)\n",
    "# For now, let's select cross template for ball tier.\n",
    "eval_setup = 'ball_within_template'\n",
    "\n",
    "fold_id = 0  # For simplicity, we will just use one fold for evaluation.\n",
    "train_tasks, dev_tasks, test_tasks = phyre.get_fold(eval_setup, fold_id)\n",
    "\n",
    "all_tasks = sorted(train_tasks+dev_tasks+test_tasks)\n",
    "task2 = all_tasks[200:300]\n",
    "action_tier = phyre.eval_setup_to_action_tier(eval_setup)"
   ]
  },
  {
   "cell_type": "code",
   "execution_count": 37,
   "id": "8226d8e9",
   "metadata": {},
   "outputs": [],
   "source": [
    "def line_coor(arr, ln):\n",
    "    \n",
    "    length = arr[3]*ln\n",
    "    \n",
    "    x1 = arr[0]*ln - (length/2)\n",
    "    y1 = ln - (arr[1]*ln)\n",
    "\n",
    "    x2 = arr[0]*ln + (length/2)\n",
    "    y2 = ln - (arr[1]*ln)\n",
    "\n",
    "    return [x1, y1], [x2, y2]"
   ]
  },
  {
   "cell_type": "code",
   "execution_count": 38,
   "id": "146ca739",
   "metadata": {},
   "outputs": [],
   "source": [
    "def ball_coor(arr, ln):\n",
    "    \n",
    "    x1 = arr[0]*ln\n",
    "    y1 = ln - arr[1]*ln\n",
    "    \n",
    "    rad = (arr[3]*ln)/2.\n",
    "    \n",
    "    return [x1,y1], rad"
   ]
  },
  {
   "cell_type": "code",
   "execution_count": 39,
   "id": "5727eeb7",
   "metadata": {},
   "outputs": [],
   "source": [
    "def create_traj(f_list, iter_path):\n",
    "    \n",
    "    traj_path = iter_path+\"/\"+'traj.jpg'\n",
    "    \n",
    "    ln = 256\n",
    "    \n",
    "    pygame.init()\n",
    "    \n",
    "    window = pygame.display.set_mode((ln, ln))\n",
    "\n",
    "\n",
    "    window.fill((255, 255, 255))\n",
    "\n",
    "    c1, c2 = line_coor(f_list[0][0], ln)\n",
    "    pygame.draw.line(window, (0,0,0),c1, c2,7)\n",
    "    \n",
    "    black_bar = [c1, c2]\n",
    "\n",
    "    c3, c4 = line_coor(f_list[0][2], ln)\n",
    "    pygame.draw.line(window, (0,0,255),c3, c4,10)\n",
    "\n",
    "    target_bar = [c3,c4]\n",
    "    \n",
    "    red_coords = []\n",
    "    green_coords = []\n",
    "    \n",
    "    for i in range(f_list.shape[0]):\n",
    "\n",
    "        c_gr, r_gr = ball_coor(f_list[i][1],ln)\n",
    "        green_coords.append(c_gr)\n",
    "\n",
    "        pygame.draw.circle(window, (0,255,0), c_gr, r_gr, 0)\n",
    "\n",
    "        c_rd, r_rd = ball_coor(f_list[i][3],ln)\n",
    "        red_coords.append(c_rd)\n",
    "        \n",
    "        pygame.draw.circle(window, (255,0,0), c_rd, r_rd, 0)\n",
    "    \n",
    "\n",
    "    pygame.display.update()\n",
    "    pygame.image.save(window, traj_path)\n",
    "    pygame.quit()\n",
    "    \n",
    "    h5path = iter_path + \"/\" + \"Coordinates.h5\"\n",
    "    \n",
    "    with h5py.File(h5path, 'w') as hf:\n",
    "        hf.create_dataset('green_coords', data=green_coords)\n",
    "        hf.create_dataset('green_radius', data=[r_gr])\n",
    "        hf.create_dataset('red_coords', data=red_coords)\n",
    "        hf.create_dataset('red_radius', data=[r_rd])\n",
    "        hf.create_dataset('black_coords', data=black_bar)\n",
    "        hf.create_dataset('target_coords', data=target_bar)"
   ]
  },
  {
   "cell_type": "code",
   "execution_count": 41,
   "id": "2257295e",
   "metadata": {},
   "outputs": [],
   "source": [
    "parent_dir = 'traj_test'\n",
    "taskid = '00002'\n",
    "task_path = parent_dir + '/' + taskid\n",
    "\n",
    "pathlib.Path(task_path).mkdir(parents = True, exist_ok = True)\n",
    "req_sim = 10\n",
    "\n",
    "for episode in task2:\n",
    "    \n",
    "    simulator = phyre.initialize_simulator([episode], action_tier)    \n",
    "    sims = 0\n",
    "    ep_path = task_path + '/' + str(episode)\n",
    "    pathlib.Path(ep_path).mkdir(parents = True, exist_ok = True)\n",
    "\n",
    "    \n",
    "    while sims < req_sim:\n",
    "        \n",
    "        action = simulator.sample()\n",
    "        simulation = simulator.simulate_action(0, action, need_images=True, need_featurized_objects=True)\n",
    "        \n",
    "        if simulation.status.is_solved():\n",
    "            \n",
    "            sims += 1\n",
    "            iter_path = ep_path + '/' + str(sims)\n",
    "            pathlib.Path(iter_path).mkdir(parents = True, exist_ok = True)\n",
    "\n",
    "            for idx, frame in enumerate(simulation.images):\n",
    "                \n",
    "                img = phyre.observations_to_uint8_rgb(frame)\n",
    "                img_path = iter_path+'/'+str(idx+1)+'.jpg'\n",
    "                cv2.imwrite(img_path, cv2.cvtColor(img, cv2.COLOR_RGB2BGR))\n",
    "                \n",
    "            f_path = iter_path+\"/\"+\"feature_list.pkl\"\n",
    "            \n",
    "            with open(f_path, 'wb') as handle:\n",
    "                pickle.dump(simulation.featurized_objects, handle, protocol=pickle.HIGHEST_PROTOCOL)     \n",
    "                \n",
    "            f_list = simulation.featurized_objects.features          \n",
    "            create_traj(f_list, iter_path)"
   ]
  },
  {
   "cell_type": "code",
   "execution_count": 25,
   "id": "86ad1db3",
   "metadata": {},
   "outputs": [],
   "source": [
    "with h5py.File('/home/mihir/traj_test/00002/00002:197/10/Coordinates.h5') as hf:\n",
    "    \n",
    "    keys = list(hf.keys())\n",
    "    green_coords = np.array(hf['green_coords'])\n",
    "    black_coords = np.array(hf['black_coords'])"
   ]
  },
  {
   "cell_type": "code",
   "execution_count": 26,
   "id": "e96d17c9",
   "metadata": {},
   "outputs": [
    {
     "data": {
      "text/plain": [
       "['black_coords',\n",
       " 'green_coords',\n",
       " 'green_radius',\n",
       " 'red_coords',\n",
       " 'red_radius',\n",
       " 'target_coords']"
      ]
     },
     "execution_count": 26,
     "metadata": {},
     "output_type": "execute_result"
    }
   ],
   "source": [
    "keys"
   ]
  },
  {
   "cell_type": "code",
   "execution_count": 28,
   "id": "c039625d",
   "metadata": {},
   "outputs": [
    {
     "data": {
      "text/plain": [
       "array([[166.3999939 ,  13.11633301],\n",
       "       [166.3999939 ,  43.98634338],\n",
       "       [155.82922363,  82.89988708],\n",
       "       [141.96551514,  84.72462463],\n",
       "       [128.14953613,  84.72462463],\n",
       "       [114.3795166 ,  84.72462463],\n",
       "       [100.64568329,  84.84422302],\n",
       "       [ 85.08218384, 104.99078369],\n",
       "       [ 69.08094025, 181.37836456],\n",
       "       [ 52.46472931, 232.44414902],\n",
       "       [ 35.32846832, 238.32358551],\n",
       "       [ 18.26213455, 238.32358551],\n",
       "       [ 13.40760899, 238.32276917],\n",
       "       [ 13.77805138, 238.32276917],\n",
       "       [ 14.14726257, 238.32276917]])"
      ]
     },
     "execution_count": 28,
     "metadata": {},
     "output_type": "execute_result"
    }
   ],
   "source": [
    "green_coords"
   ]
  },
  {
   "cell_type": "code",
   "execution_count": 29,
   "id": "8ef4b4d7",
   "metadata": {},
   "outputs": [
    {
     "data": {
      "text/plain": [
       "array([[102.34881592,  99.83999634],\n",
       "       [230.45117188,  99.83999634]])"
      ]
     },
     "execution_count": 29,
     "metadata": {},
     "output_type": "execute_result"
    }
   ],
   "source": [
    "black_coords"
   ]
  },
  {
   "cell_type": "code",
   "execution_count": null,
   "id": "525b04dd",
   "metadata": {},
   "outputs": [],
   "source": []
  }
 ],
 "metadata": {
  "kernelspec": {
   "display_name": "ptorch",
   "language": "python",
   "name": "ptorch"
  },
  "language_info": {
   "codemirror_mode": {
    "name": "ipython",
    "version": 3
   },
   "file_extension": ".py",
   "mimetype": "text/x-python",
   "name": "python",
   "nbconvert_exporter": "python",
   "pygments_lexer": "ipython3",
   "version": "3.10.4"
  }
 },
 "nbformat": 4,
 "nbformat_minor": 5
}
